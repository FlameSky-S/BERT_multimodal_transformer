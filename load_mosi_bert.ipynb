{
 "cells": [
  {
   "cell_type": "code",
   "execution_count": 2,
   "metadata": {},
   "outputs": [],
   "source": [
    "import pickle"
   ]
  },
  {
   "cell_type": "code",
   "execution_count": 21,
   "metadata": {},
   "outputs": [],
   "source": [
    "def load_data(data_location,max_seq_len=-1):\n",
    "    print(data_location,max_seq_len)\n",
    "    pkl_file = open(data_location, 'rb')\n",
    "    data = pickle.load(pkl_file)\n",
    "    pkl_file.close()\n",
    "    \n",
    "    X_train = data['X_train'][:,:max_seq_len,:]\n",
    "    y_train=data['y_train']\n",
    "    X_valid = data['X_valid'][:,:max_seq_len,:]\n",
    "    y_valid=data['y_valid']\n",
    "    X_test=data['X_test'][:,:max_seq_len,:]\n",
    "    y_test=data['y_test']\n",
    "    #{'X_train':X_train,'y_train':y_train,'X_valid':X_valid,'y_valid':y_valid,'X_test':X_test,'y_test':y_test}\n",
    "    print(X_train.shape,y_train.shape,X_valid.shape,y_valid.shape,X_test.shape,y_test.shape)\n",
    "    return (X_train,y_train,X_valid,y_valid,X_test,y_test)\n"
   ]
  },
  {
   "cell_type": "code",
   "execution_count": 22,
   "metadata": {},
   "outputs": [],
   "source": [
    "data_location = \"/home/echowdh2/Research_work/BERT_multimodal_transformer/bert_mosi.pkl\""
   ]
  },
  {
   "cell_type": "code",
   "execution_count": 24,
   "metadata": {},
   "outputs": [
    {
     "name": "stdout",
     "output_type": "stream",
     "text": [
      "/home/echowdh2/Research_work/BERT_multimodal_transformer/bert_mosi.pkl 30\n",
      "(1280, 30, 889) (1280,) (228, 30, 889) (228,) (684, 30, 889) (684,)\n"
     ]
    }
   ],
   "source": [
    "X_train,y_train,X_valid,y_valid,X_test,y_test = load_data(data_location=data_location,max_seq_len=30)"
   ]
  },
  {
   "cell_type": "code",
   "execution_count": 31,
   "metadata": {},
   "outputs": [],
   "source": [
    "#The data is organized in the text,acoustic,visual format.\n",
    "d_text=768\n",
    "d_acoustic =74\n",
    "d_visual=47\n"
   ]
  },
  {
   "cell_type": "code",
   "execution_count": null,
   "metadata": {},
   "outputs": [],
   "source": []
  }
 ],
 "metadata": {
  "kernelspec": {
   "display_name": "Python 3",
   "language": "python",
   "name": "python3"
  },
  "language_info": {
   "codemirror_mode": {
    "name": "ipython",
    "version": 3
   },
   "file_extension": ".py",
   "mimetype": "text/x-python",
   "name": "python",
   "nbconvert_exporter": "python",
   "pygments_lexer": "ipython3",
   "version": "3.7.2"
  }
 },
 "nbformat": 4,
 "nbformat_minor": 2
}
